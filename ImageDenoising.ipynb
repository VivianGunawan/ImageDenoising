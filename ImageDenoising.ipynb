{
 "cells": [
  {
   "cell_type": "code",
   "execution_count": 1,
   "metadata": {},
   "outputs": [],
   "source": [
    "import imageio\n",
    "import numpy as np"
   ]
  },
  {
   "cell_type": "code",
   "execution_count": 2,
   "metadata": {},
   "outputs": [],
   "source": [
    "grayscale = imageio.imread('Bayesnoise_grayscale.png')\n",
    "actual = imageio.imread('Bayes_grayscale.png')\n",
    "bayes_textbook = imageio.imread('Bayes_textbook.png')"
   ]
  },
  {
   "cell_type": "code",
   "execution_count": 3,
   "metadata": {},
   "outputs": [],
   "source": [
    "grayscale=np.where(grayscale==255, 1, grayscale) \n",
    "grayscale=np.where(grayscale==0, -1, grayscale) "
   ]
  },
  {
   "cell_type": "code",
   "execution_count": 4,
   "metadata": {},
   "outputs": [],
   "source": [
    "x=np.copy(grayscale)\n",
    "y=np.copy(grayscale)"
   ]
  },
  {
   "cell_type": "code",
   "execution_count": 5,
   "metadata": {},
   "outputs": [],
   "source": [
    "def get_neighbours(x,r,c):\n",
    "    if c!=0:\n",
    "        left=x[r][c-1]\n",
    "    else:\n",
    "        left=0\n",
    "    if c!=len(x[0])-1:\n",
    "        right=x[r][c+1]\n",
    "    else:\n",
    "        right=0\n",
    "    if r!=0:\n",
    "        up=x[r-1][c]\n",
    "    else:\n",
    "        up=0\n",
    "    if r!=len(x)-1:\n",
    "        down=x[r+1][c]\n",
    "    else:\n",
    "        down=0\n",
    "    return left,right,up,down\n",
    "    "
   ]
  },
  {
   "cell_type": "code",
   "execution_count": 6,
   "metadata": {},
   "outputs": [],
   "source": [
    "def get_energy(h,beta,eta,me,left,right,up,down,other):\n",
    "    energy=h*me -beta*(me*left + me*right + me*up + me*down) - eta*(me*other)\n",
    "    return energy"
   ]
  },
  {
   "cell_type": "code",
   "execution_count": 7,
   "metadata": {},
   "outputs": [],
   "source": [
    "def optimize(x,y,h,beta,eta):\n",
    "    energy=0\n",
    "    updated_x=np.copy(x)\n",
    "    for r in range(len(x)):\n",
    "        for c in range(len(x[0])):\n",
    "            me=x[r][c]\n",
    "            left,right,up,down=get_neighbours(x,r,c)\n",
    "            other=y[r][c]\n",
    "            negative_me=me*-1\n",
    "            my_energy=get_energy(h,beta,eta,me,left,right,up,down,other)\n",
    "            negative_me_energy=get_energy(h,beta,eta,negative_me,left,right,up,down,other)\n",
    "            if negative_me_energy < my_energy:\n",
    "                energy+=negative_me_energy\n",
    "                updated_x[r][c]=negative_me\n",
    "            else:\n",
    "                energy+=my_energy\n",
    "    return updated_x,energy"
   ]
  },
  {
   "cell_type": "code",
   "execution_count": 8,
   "metadata": {},
   "outputs": [],
   "source": [
    "def coordinate_descent(x,y,h,beta,eta,max_iter):\n",
    "    working_x=np.copy(x)\n",
    "    c=0\n",
    "    working_x,min_energy=optimize(working_x,y,h,beta,eta)\n",
    "    while c<max_iter:\n",
    "        working_x,energy=optimize(working_x,y,h,beta,eta)\n",
    "        c+=1\n",
    "        if energy<min_energy:\n",
    "            min_energy=energy\n",
    "        elif energy==min_energy:\n",
    "            break\n",
    "    return working_x        "
   ]
  },
  {
   "cell_type": "code",
   "execution_count": 9,
   "metadata": {},
   "outputs": [],
   "source": [
    "def check_accuracy(predict,actual):\n",
    "    correct=0\n",
    "    for r in range(len(predict)):\n",
    "        for c in range(len(predict[0])):\n",
    "            if predict[r][c]==actual[r][c]:\n",
    "                correct+=1\n",
    "    return correct/(actual.shape[0]*actual.shape[1])"
   ]
  },
  {
   "cell_type": "code",
   "execution_count": 10,
   "metadata": {},
   "outputs": [
    {
     "name": "stderr",
     "output_type": "stream",
     "text": [
      "WARNING:root:Lossy conversion from int16 to uint8. Range [0, 255]. Convert image to uint8 prior to saving to suppress this warning.\n"
     ]
    },
    {
     "name": "stdout",
     "output_type": "stream",
     "text": [
      "0.9937375593324146\n"
     ]
    }
   ],
   "source": [
    "optimized=coordinate_descent(x,y,0.1,0.7,1,50)\n",
    "optimized=np.where(optimized==1, 255, optimized) \n",
    "optimized=np.where(optimized==-1, 0, optimized)\n",
    "accuracy=check_accuracy(optimized,actual)\n",
    "imageio.imwrite(\"result.png\", optimized)\n",
    "print(accuracy)"
   ]
  },
  {
   "cell_type": "code",
   "execution_count": 11,
   "metadata": {},
   "outputs": [
    {
     "data": {
      "text/plain": [
       "<visvis.wobjects.textures.Texture2D at 0x12194ada0>"
      ]
     },
     "execution_count": 11,
     "metadata": {},
     "output_type": "execute_result"
    }
   ],
   "source": [
    "import visvis as vv\n",
    "im = imageio.imread('result.png')\n",
    "vv.imshow(im)"
   ]
  },
  {
   "cell_type": "code",
   "execution_count": 12,
   "metadata": {},
   "outputs": [
    {
     "name": "stderr",
     "output_type": "stream",
     "text": [
      "WARNING:root:Lossy conversion from float64 to uint8. Range [0.0, 255.0]. Convert image to uint8 prior to saving to suppress this warning.\n"
     ]
    }
   ],
   "source": [
    "bw=np.copy(optimized)\n",
    "def color(bw):\n",
    "    colored=np.empty((311, 420, 4))\n",
    "    for r in range(len(bw)):\n",
    "        for c in range(len(bw[0])):\n",
    "            if bw[r][c]==0:\n",
    "                colored[r][c]=[0, 0, 255, 255]\n",
    "            else:\n",
    "                colored[r][c]=[247, 211, 109, 255]\n",
    "    imageio.imwrite(\"cleaned.png\", colored)\n",
    "    return colored\n",
    "\n",
    "clean=color(bw)    "
   ]
  },
  {
   "cell_type": "code",
   "execution_count": 13,
   "metadata": {},
   "outputs": [
    {
     "data": {
      "text/plain": [
       "0.9937375593324146"
      ]
     },
     "execution_count": 13,
     "metadata": {},
     "output_type": "execute_result"
    }
   ],
   "source": [
    "def check_colored_accuracy(predict,actual):\n",
    "    correct=0\n",
    "    for r in range(len(predict)):\n",
    "        for c in range(len(predict[0])):\n",
    "            if predict[r][c].all()==actual[r][c].all():\n",
    "                correct+=1\n",
    "    return correct/(actual.shape[0]*actual.shape[1])\n",
    "check_colored_accuracy(clean,bayes_textbook)"
   ]
  }
 ],
 "metadata": {
  "kernelspec": {
   "display_name": "Python 3",
   "language": "python",
   "name": "python3"
  },
  "language_info": {
   "codemirror_mode": {
    "name": "ipython",
    "version": 3
   },
   "file_extension": ".py",
   "mimetype": "text/x-python",
   "name": "python",
   "nbconvert_exporter": "python",
   "pygments_lexer": "ipython3",
   "version": "3.7.4"
  }
 },
 "nbformat": 4,
 "nbformat_minor": 2
}
